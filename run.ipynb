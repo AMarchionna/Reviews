{
 "cells": [
  {
   "cell_type": "markdown",
   "execution_count": null,
   "metadata": {},
   "outputs": [],
   "source": [
    "# Sentiment Analysis with KNN and PCA\n"
   ]
  },
  {
   "cell_type": "code",
   "execution_count": null,
   "metadata": {},
   "outputs": [],
   "source": [
    "from reviews.evaluate import Evaluate\n",
    "\n",
    "MAX_TRAIN = 3000  # Max train reviews.\n",
    "MAX_TEST = 500    # Max test reviews.\n",
    "path = \"data/imdb_small.csv\"  # Path to read data\n",
    "\n",
    "\n",
    "best_acc = 0  # For the best accuracy.\n",
    "best_val = []  # Best parameters.\n",
    "\n",
    "# Set the model.\n",
    "model = Evaluate(MAX_TRAIN, MAX_TEST)\n",
    "model.read()\n",
    "\n",
    "for components in range(20,400,5):  # Vary the components.\n",
    "    model.set_PCA(components)  # Set PCA in the model.\n",
    "    for neighbours in range(20,301,5):  # Vary the neighbours.\n",
    "        model.set_KNN(neighbours)  # Set KNN in the model.\n",
    "        score = model.score()  # Calculate the score of the model.\n",
    "        if score == best:  # If the actual score is equal to the previous best.\n",
    "            mejores.append((alpha, n))  # Add the parameters to best parameters.\n",
    "        elif score > best:  # If the actual is score is the best so far.\n",
    "            best = score\n",
    "            mejores = [(alpha,n)]"
   ]
  },
  {
   "cell_type": "code",
   "execution_count": null,
   "metadata": {},
   "outputs": [],
   "source": [
    "print(best)\n",
    "print(mejores)"
   ]
  },
  {
   "cell_type": "code",
   "execution_count": null,
   "metadata": {},
   "outputs": [],
   "source": [
    "#  Run just one pair of parameters\n",
    "\n",
    "from reviews.evaluate import Evaluate\n",
    "\n",
    "MAX_TRAIN = 3000\n",
    "MAX_TEST = 500\n",
    "\n",
    "components = 55\n",
    "neighbours = 221\n",
    "\n",
    "path = \"data/imdb_small.csv\"\n",
    "\n",
    "model = Evaluate(MAX_TRAIN, MAX_TEST)\n",
    "model.read(path)\n",
    "model.set_PCA(components)\n",
    "model.set_KNN(neighbours)\n",
    "model.score()"
   ]
  },
  {
   "cell_type": "code",
   "execution_count": null,
   "metadata": {},
   "outputs": [],
   "source": []
  }
 ],
 "metadata": {
  "kernelspec": {
   "display_name": "Python 3",
   "language": "python",
   "name": "python3"
  },
  "language_info": {
   "codemirror_mode": {
    "name": "ipython",
    "version": 3
   },
   "file_extension": ".py",
   "mimetype": "text/x-python",
   "name": "python",
   "nbconvert_exporter": "python",
   "pygments_lexer": "ipython3",
   "version": "3.7.5-final"
  }
 },
 "nbformat": 4,
 "nbformat_minor": 2
}