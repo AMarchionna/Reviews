{
 "cells": [
  {
   "cell_type": "markdown",
   "metadata": {},
   "source": [
    "# Sentiment Analysis with KNN and PCA\n"
   ]
  },
  {
   "cell_type": "markdown",
   "metadata": {},
   "source": [
    "Definir los path al ejecutable de python 3.6 y sus librerías,\n",
    "de acuerdo al virtual env que estén corriendo."
   ]
  },
  {
   "cell_type": "code",
   "execution_count": 1,
   "metadata": {},
   "outputs": [
    {
     "name": "stdout",
     "output_type": "stream",
     "text": [
      "/home/agustin/git_repo/Reviews/notebooks\n",
      "Python 3.7.5\n"
     ]
    }
   ],
   "source": [
    "# Verifico la correcta instalación. Si no falla el import está OK\n",
    "!pwd\n",
    "!python3 --version\n",
    "    "
   ]
  },
  {
   "cell_type": "code",
   "execution_count": 1,
   "metadata": {},
   "outputs": [
    {
     "name": "stdout",
     "output_type": "stream",
     "text": [
      "tar: *.tgz: No se puede efectuar open: No existe el archivo o el directorio\n",
      "tar: Error is not recoverable: exiting now\n",
      "Cantidad de documentos: 12500\n"
     ]
    }
   ],
   "source": [
    "%load_ext autoreload\n",
    "%autoreload 2\n",
    "import pandas as pd\n",
    "\n",
    "!cd ../data && tar -xvf *.tgz\n",
    "\n",
    "df = pd.read_csv(\"../data/imdb_small.csv\", index_col=0)\n",
    "\n",
    "print(\"Cantidad de documentos: {}\".format(df.shape[0]))"
   ]
  },
  {
   "cell_type": "code",
   "execution_count": 2,
   "metadata": {},
   "outputs": [
    {
     "data": {
      "text/html": [
       "<div>\n",
       "<style scoped>\n",
       "    .dataframe tbody tr th:only-of-type {\n",
       "        vertical-align: middle;\n",
       "    }\n",
       "\n",
       "    .dataframe tbody tr th {\n",
       "        vertical-align: top;\n",
       "    }\n",
       "\n",
       "    .dataframe thead th {\n",
       "        text-align: right;\n",
       "    }\n",
       "</style>\n",
       "<table border=\"1\" class=\"dataframe\">\n",
       "  <thead>\n",
       "    <tr style=\"text-align: right;\">\n",
       "      <th></th>\n",
       "      <th>type</th>\n",
       "      <th>review</th>\n",
       "      <th>label</th>\n",
       "      <th>file</th>\n",
       "    </tr>\n",
       "  </thead>\n",
       "  <tbody>\n",
       "    <tr>\n",
       "      <th>count</th>\n",
       "      <td>12500</td>\n",
       "      <td>12500</td>\n",
       "      <td>12500</td>\n",
       "      <td>12500</td>\n",
       "    </tr>\n",
       "    <tr>\n",
       "      <th>unique</th>\n",
       "      <td>2</td>\n",
       "      <td>12469</td>\n",
       "      <td>2</td>\n",
       "      <td>12085</td>\n",
       "    </tr>\n",
       "    <tr>\n",
       "      <th>top</th>\n",
       "      <td>test</td>\n",
       "      <td>The fact that this cruddy series could elicit ...</td>\n",
       "      <td>neg</td>\n",
       "      <td>10080_10.txt</td>\n",
       "    </tr>\n",
       "    <tr>\n",
       "      <th>freq</th>\n",
       "      <td>6275</td>\n",
       "      <td>2</td>\n",
       "      <td>6322</td>\n",
       "      <td>2</td>\n",
       "    </tr>\n",
       "  </tbody>\n",
       "</table>\n",
       "</div>"
      ],
      "text/plain": [
       "         type                                             review  label  \\\n",
       "count   12500                                              12500  12500   \n",
       "unique      2                                              12469      2   \n",
       "top      test  The fact that this cruddy series could elicit ...    neg   \n",
       "freq     6275                                                  2   6322   \n",
       "\n",
       "                file  \n",
       "count          12500  \n",
       "unique         12085  \n",
       "top     10080_10.txt  \n",
       "freq               2  "
      ]
     },
     "execution_count": 2,
     "metadata": {},
     "output_type": "execute_result"
    }
   ],
   "source": [
    "df.describe()"
   ]
  },
  {
   "cell_type": "code",
   "execution_count": 3,
   "metadata": {},
   "outputs": [
    {
     "name": "stdout",
     "output_type": "stream",
     "text": [
      "Cantidad de instancias de entrenamiento = 3000\n",
      "Cantidad de instancias de test = 500\n"
     ]
    }
   ],
   "source": [
    "text_train = df[df.type == 'train'][\"review\"]\n",
    "label_train = df[df.type == 'train'][\"label\"]\n",
    "text_train = text_train[0:3000]\n",
    "label_train = label_train[0:3000]\n",
    "\n",
    "text_test = df[df.type == 'test'][\"review\"]\n",
    "label_test = df[df.type == 'test'][\"label\"]\n",
    "text_test = text_test[0:500]\n",
    "label_test = label_test[0:500]\n",
    "\n",
    "print(\"Cantidad de instancias de entrenamiento = {}\".format(len(text_train)))\n",
    "print(\"Cantidad de instancias de test = {}\".format(len(text_test)))\n"
   ]
  },
  {
   "cell_type": "code",
   "execution_count": 4,
   "metadata": {},
   "outputs": [
    {
     "name": "stdout",
     "output_type": "stream",
     "text": [
      "Class balance : 1487 pos 1513 neg\n"
     ]
    }
   ],
   "source": [
    "print(\"Class balance : {} pos {} neg\".format(\n",
    "    (label_train == 'pos').sum(),\n",
    "    (label_train == 'neg').sum() ))\n"
   ]
  },
  {
   "cell_type": "code",
   "execution_count": 5,
   "metadata": {},
   "outputs": [],
   "source": [
    "from sklearn.feature_extraction.text import CountVectorizer\n",
    "\n",
    "vectorizer = CountVectorizer(max_df=0.90, min_df=0.01, max_features=500, ngram_range = (1,2))\n",
    "\n",
    "vectorizer.fit(text_train)\n",
    "\n",
    "X_train, y_train = vectorizer.transform(text_train), (label_train == 'pos').values\n",
    "X_test, y_test = vectorizer.transform(text_test), (label_test == 'pos').values\n",
    "\n",
    "X_train = X_train.toarray()\n",
    "X_test = X_test.toarray()"
   ]
  },
  {
   "cell_type": "code",
   "execution_count": null,
   "metadata": {},
   "outputs": [
    {
     "name": "stdout",
     "output_type": "stream",
     "text": [
      "Accuracy for alpha=20 and n=205: 0.6460\n",
      "Accuracy for alpha=20 and n=210: 0.6500\n",
      "Accuracy for alpha=20 and n=215: 0.6540\n",
      "Accuracy for alpha=20 and n=220: 0.6540\n",
      "Accuracy for alpha=20 and n=225: 0.6420\n",
      "Accuracy for alpha=20 and n=230: 0.6620\n",
      "Accuracy for alpha=20 and n=235: 0.6680\n",
      "Accuracy for alpha=20 and n=240: 0.6640\n",
      "Accuracy for alpha=20 and n=245: 0.6640\n",
      "Accuracy for alpha=20 and n=250: 0.6660\n",
      "Accuracy for alpha=25 and n=205: 0.6660\n",
      "Accuracy for alpha=25 and n=210: 0.6560\n",
      "Accuracy for alpha=25 and n=215: 0.6700\n",
      "Accuracy for alpha=25 and n=220: 0.6640\n",
      "Accuracy for alpha=25 and n=225: 0.6720\n",
      "Accuracy for alpha=25 and n=230: 0.6580\n",
      "Accuracy for alpha=25 and n=235: 0.6680\n",
      "Accuracy for alpha=25 and n=240: 0.6520\n",
      "Accuracy for alpha=25 and n=245: 0.6640\n",
      "Accuracy for alpha=25 and n=250: 0.6640\n",
      "Accuracy for alpha=30 and n=205: 0.6640\n",
      "Accuracy for alpha=30 and n=210: 0.6600\n",
      "Accuracy for alpha=30 and n=215: 0.6620\n",
      "Accuracy for alpha=30 and n=220: 0.6620\n",
      "Accuracy for alpha=30 and n=225: 0.6740\n",
      "Accuracy for alpha=30 and n=230: 0.6740\n",
      "Accuracy for alpha=30 and n=235: 0.6700\n",
      "Accuracy for alpha=30 and n=240: 0.6780\n",
      "Accuracy for alpha=30 and n=245: 0.6800\n",
      "Accuracy for alpha=30 and n=250: 0.6800\n",
      "Accuracy for alpha=35 and n=205: 0.6840\n",
      "Accuracy for alpha=35 and n=210: 0.6840\n",
      "Accuracy for alpha=35 and n=215: 0.6840\n",
      "Accuracy for alpha=35 and n=220: 0.6840\n",
      "Accuracy for alpha=35 and n=225: 0.6780\n",
      "Accuracy for alpha=35 and n=230: 0.6740\n",
      "Accuracy for alpha=35 and n=235: 0.6680\n",
      "Accuracy for alpha=35 and n=240: 0.6640\n",
      "Accuracy for alpha=35 and n=245: 0.6680\n",
      "Accuracy for alpha=35 and n=250: 0.6600\n",
      "Accuracy for alpha=40 and n=205: 0.6880\n",
      "Accuracy for alpha=40 and n=210: 0.6760\n",
      "Accuracy for alpha=40 and n=215: 0.6740\n",
      "Accuracy for alpha=40 and n=220: 0.6680\n",
      "Accuracy for alpha=40 and n=225: 0.6720\n",
      "Accuracy for alpha=40 and n=230: 0.6840\n",
      "Accuracy for alpha=40 and n=235: 0.6900\n",
      "Accuracy for alpha=40 and n=240: 0.6980\n",
      "Accuracy for alpha=40 and n=245: 0.6940\n",
      "Accuracy for alpha=40 and n=250: 0.6980\n",
      "Accuracy for alpha=45 and n=205: 0.6860\n",
      "Accuracy for alpha=45 and n=210: 0.6880\n",
      "Accuracy for alpha=45 and n=215: 0.6880\n",
      "Accuracy for alpha=45 and n=220: 0.6840\n",
      "Accuracy for alpha=45 and n=225: 0.6820\n",
      "Accuracy for alpha=45 and n=230: 0.6780\n",
      "Accuracy for alpha=45 and n=235: 0.6800\n",
      "Accuracy for alpha=45 and n=240: 0.6780\n",
      "Accuracy for alpha=45 and n=245: 0.6880\n",
      "Accuracy for alpha=45 and n=250: 0.6820\n",
      "Accuracy for alpha=50 and n=205: 0.7020\n",
      "Accuracy for alpha=50 and n=210: 0.6920\n",
      "Accuracy for alpha=50 and n=215: 0.6960\n",
      "Accuracy for alpha=50 and n=220: 0.7000\n",
      "Accuracy for alpha=50 and n=225: 0.6960\n",
      "Accuracy for alpha=50 and n=230: 0.6960\n",
      "Accuracy for alpha=50 and n=235: 0.6960\n",
      "Accuracy for alpha=50 and n=240: 0.6900\n",
      "Accuracy for alpha=50 and n=245: 0.6860\n",
      "Accuracy for alpha=50 and n=250: 0.6820\n",
      "Accuracy for alpha=55 and n=205: 0.7100\n",
      "Accuracy for alpha=55 and n=210: 0.7100\n",
      "Accuracy for alpha=55 and n=215: 0.7040\n",
      "Accuracy for alpha=55 and n=220: 0.7120\n",
      "Accuracy for alpha=55 and n=225: 0.7100\n",
      "Accuracy for alpha=55 and n=230: 0.7020\n",
      "Accuracy for alpha=55 and n=235: 0.7040\n",
      "Accuracy for alpha=55 and n=240: 0.6980\n",
      "Accuracy for alpha=55 and n=245: 0.7020\n"
     ]
    }
   ],
   "source": [
    "import numpy as np\n",
    "import pca\n",
    "import knn\n",
    "\n",
    "best = 0\n",
    "mejores = []\n",
    "\n",
    "for alpha in range(20,400,5):\n",
    "\n",
    "    component = pca.PCA(alpha)\n",
    "    x_train = X_train\n",
    "    x_test = X_test\n",
    "    component.fit(x_train)\n",
    "\n",
    "    x_train = component.transform(x_train)\n",
    "    x_test = component.transform(x_test)\n",
    "\n",
    "    for n in range(205,251,5):\n",
    "\n",
    "        nearest = knn.KNNClassifier(n)\n",
    "        nearest.fit(x_train, y_train)\n",
    "\n",
    "        actual = nearest.score(x_test, y_test)\n",
    "        if actual == best:\n",
    "            mejores.append((alpha, n))\n",
    "        elif actual > best:\n",
    "            best = actual\n",
    "            mejores = [(alpha,n)]\n",
    "        print('Accuracy for alpha={:d} and n={:d}: {:.4f}'\n",
    "             .format(alpha, n, actual))\n",
    "        # print(mejores)"
   ]
  },
  {
   "cell_type": "code",
   "execution_count": null,
   "metadata": {},
   "outputs": [],
   "source": [
    "#This cell is to run a particular value of components and neighbours.\n",
    "\n",
    "comp = 120  # Set the value for the components.\n",
    "neigh = 240  # Set the value for the neighbours.\n",
    "\n",
    "import pca\n",
    "import knn\n",
    "import numpy as np\n",
    "\n",
    "for row in X_train:\n",
    "    row = row / np.linalg.norm(row)\n",
    "\n",
    "for row in X_test:\n",
    "    row = row / np.linalg.norm(row)\n",
    "\n",
    "pcA = pca.PCA(comp)\n",
    "pcA.fit(X_train)\n",
    "\n",
    "X_reduce = pcA.transform(X_train)\n",
    "\n",
    "X_rtest = pcA.transform(X_test)\n",
    "\n",
    "\n",
    "\n",
    "clf = knn.KNNClassifier(neigh)\n",
    "clf.fit(X_reduce, y_train)\n",
    "\n",
    "print(clf.score(X_rtest,y_test))"
   ]
  },
  {
   "cell_type": "code",
   "execution_count": 10,
   "metadata": {},
   "outputs": [
    {
     "name": "stdout",
     "output_type": "stream",
     "text": [
      "0.676\n",
      "[(20, 70)]\n"
     ]
    }
   ],
   "source": [
    "print(best)\n",
    "print(mejores)"
   ]
  }
 ],
 "metadata": {
  "kernelspec": {
   "display_name": "Python 3",
   "language": "python",
   "name": "python3"
  },
  "language_info": {
   "codemirror_mode": {
    "name": "ipython",
    "version": 3
   },
   "file_extension": ".py",
   "mimetype": "text/x-python",
   "name": "python",
   "nbconvert_exporter": "python",
   "pygments_lexer": "ipython3",
   "version": "3.7.5"
  }
 },
 "nbformat": 4,
 "nbformat_minor": 2
}
