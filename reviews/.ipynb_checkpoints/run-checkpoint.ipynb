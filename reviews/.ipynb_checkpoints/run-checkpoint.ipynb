{
 "cells": [
  {
   "cell_type": "markdown",
   "metadata": {},
   "source": [
    "# Sentiment Analysis with KNN and PCA\n"
   ]
  },
  {
   "cell_type": "code",
   "execution_count": 1,
   "metadata": {},
   "outputs": [
    {
     "name": "stdout",
     "output_type": "stream",
     "text": [
      "/home/agustin/git_repo/Reviews/notebooks\n",
      "Python 3.7.5\n"
     ]
    }
   ],
   "source": [
    "# Verifico la correcta instalación. Si no falla el import está OK\n",
    "!pwd\n",
    "!python3 --version\n",
    "    "
   ]
  },
  {
   "cell_type": "code",
   "execution_count": 2,
   "metadata": {},
   "outputs": [
    {
     "name": "stdout",
     "output_type": "stream",
     "text": [
      "tar: *.tgz: No se puede efectuar open: No existe el archivo o el directorio\n",
      "tar: Error is not recoverable: exiting now\n",
      "Cantidad de documentos: 12500\n"
     ]
    }
   ],
   "source": [
    "%load_ext autoreload\n",
    "%autoreload 2\n",
    "import pandas as pd\n",
    "\n",
    "!cd ../data && tar -xvf *.tgz\n",
    "\n",
    "df = pd.read_csv(\"../data/imdb_small.csv\", index_col=0)\n",
    "\n",
    "print(\"Cantidad de documentos: {}\".format(df.shape[0]))"
   ]
  },
  {
   "cell_type": "code",
   "execution_count": 3,
   "metadata": {},
   "outputs": [
    {
     "data": {
      "text/html": [
       "<div>\n",
       "<style scoped>\n",
       "    .dataframe tbody tr th:only-of-type {\n",
       "        vertical-align: middle;\n",
       "    }\n",
       "\n",
       "    .dataframe tbody tr th {\n",
       "        vertical-align: top;\n",
       "    }\n",
       "\n",
       "    .dataframe thead th {\n",
       "        text-align: right;\n",
       "    }\n",
       "</style>\n",
       "<table border=\"1\" class=\"dataframe\">\n",
       "  <thead>\n",
       "    <tr style=\"text-align: right;\">\n",
       "      <th></th>\n",
       "      <th>type</th>\n",
       "      <th>review</th>\n",
       "      <th>label</th>\n",
       "      <th>file</th>\n",
       "    </tr>\n",
       "  </thead>\n",
       "  <tbody>\n",
       "    <tr>\n",
       "      <th>count</th>\n",
       "      <td>12500</td>\n",
       "      <td>12500</td>\n",
       "      <td>12500</td>\n",
       "      <td>12500</td>\n",
       "    </tr>\n",
       "    <tr>\n",
       "      <th>unique</th>\n",
       "      <td>2</td>\n",
       "      <td>12469</td>\n",
       "      <td>2</td>\n",
       "      <td>12085</td>\n",
       "    </tr>\n",
       "    <tr>\n",
       "      <th>top</th>\n",
       "      <td>test</td>\n",
       "      <td>Corridors of time. The movie you can watch if ...</td>\n",
       "      <td>neg</td>\n",
       "      <td>6566_4.txt</td>\n",
       "    </tr>\n",
       "    <tr>\n",
       "      <th>freq</th>\n",
       "      <td>6275</td>\n",
       "      <td>2</td>\n",
       "      <td>6322</td>\n",
       "      <td>2</td>\n",
       "    </tr>\n",
       "  </tbody>\n",
       "</table>\n",
       "</div>"
      ],
      "text/plain": [
       "         type                                             review  label  \\\n",
       "count   12500                                              12500  12500   \n",
       "unique      2                                              12469      2   \n",
       "top      test  Corridors of time. The movie you can watch if ...    neg   \n",
       "freq     6275                                                  2   6322   \n",
       "\n",
       "              file  \n",
       "count        12500  \n",
       "unique       12085  \n",
       "top     6566_4.txt  \n",
       "freq             2  "
      ]
     },
     "execution_count": 3,
     "metadata": {},
     "output_type": "execute_result"
    }
   ],
   "source": [
    "df.describe()"
   ]
  },
  {
   "cell_type": "code",
   "execution_count": 4,
   "metadata": {},
   "outputs": [
    {
     "name": "stdout",
     "output_type": "stream",
     "text": [
      "Cantidad de instancias de entrenamiento = 3000\n",
      "Cantidad de instancias de test = 500\n"
     ]
    }
   ],
   "source": [
    "text_train = df[df.type == 'train'][\"review\"]\n",
    "label_train = df[df.type == 'train'][\"label\"]\n",
    "text_train = text_train[0:3000]\n",
    "label_train = label_train[0:3000]\n",
    "\n",
    "text_test = df[df.type == 'test'][\"review\"]\n",
    "label_test = df[df.type == 'test'][\"label\"]\n",
    "text_test = text_test[0:500]\n",
    "label_test = label_test[0:500]\n",
    "\n",
    "print(\"Cantidad de instancias de entrenamiento = {}\".format(len(text_train)))\n",
    "print(\"Cantidad de instancias de test = {}\".format(len(text_test)))\n"
   ]
  },
  {
   "cell_type": "code",
   "execution_count": 5,
   "metadata": {},
   "outputs": [
    {
     "name": "stdout",
     "output_type": "stream",
     "text": [
      "Class balance : 1487 pos 1513 neg\n"
     ]
    }
   ],
   "source": [
    "print(\"Class balance : {} pos {} neg\".format(\n",
    "    (label_train == 'pos').sum(),\n",
    "    (label_train == 'neg').sum() ))\n"
   ]
  },
  {
   "cell_type": "code",
   "execution_count": 6,
   "metadata": {},
   "outputs": [],
   "source": [
    "from sklearn.feature_extraction.text import CountVectorizer\n",
    "\n",
    "vectorizer = CountVectorizer(max_df=0.90, min_df=0.01, max_features=500, ngram_range = (1,2))\n",
    "\n",
    "vectorizer.fit(text_train)\n",
    "\n",
    "X_train, y_train = vectorizer.transform(text_train), (label_train == 'pos').values\n",
    "X_test, y_test = vectorizer.transform(text_test), (label_test == 'pos').values\n",
    "\n",
    "X_train = X_train.toarray()\n",
    "X_test = X_test.toarray()"
   ]
  },
  {
   "cell_type": "code",
   "execution_count": 10,
   "metadata": {},
   "outputs": [
    {
     "name": "stdout",
     "output_type": "stream",
     "text": [
      "Accuracy for alpha=40 and n=125: 0.6640\n",
      "Accuracy for alpha=40 and n=130: 0.6740\n",
      "Accuracy for alpha=40 and n=135: 0.6700\n",
      "Accuracy for alpha=40 and n=140: 0.6760\n",
      "Accuracy for alpha=40 and n=145: 0.6700\n",
      "Accuracy for alpha=40 and n=150: 0.6620\n",
      "Accuracy for alpha=40 and n=155: 0.6620\n",
      "Accuracy for alpha=40 and n=160: 0.6720\n",
      "Accuracy for alpha=40 and n=165: 0.6820\n",
      "Accuracy for alpha=40 and n=170: 0.6800\n",
      "Accuracy for alpha=40 and n=175: 0.6800\n",
      "Accuracy for alpha=40 and n=180: 0.6760\n",
      "Accuracy for alpha=40 and n=185: 0.6820\n",
      "Accuracy for alpha=40 and n=190: 0.6760\n",
      "Accuracy for alpha=40 and n=195: 0.6820\n",
      "Accuracy for alpha=40 and n=200: 0.6840\n",
      "Accuracy for alpha=45 and n=20: 0.6460\n",
      "Accuracy for alpha=45 and n=25: 0.6560\n",
      "Accuracy for alpha=45 and n=30: 0.6740\n",
      "Accuracy for alpha=45 and n=35: 0.6760\n",
      "Accuracy for alpha=45 and n=40: 0.6820\n",
      "Accuracy for alpha=45 and n=45: 0.6640\n",
      "Accuracy for alpha=45 and n=50: 0.6600\n",
      "Accuracy for alpha=45 and n=55: 0.6640\n",
      "Accuracy for alpha=45 and n=60: 0.6720\n",
      "Accuracy for alpha=45 and n=65: 0.6560\n",
      "Accuracy for alpha=45 and n=70: 0.6480\n",
      "Accuracy for alpha=45 and n=75: 0.6540\n",
      "Accuracy for alpha=45 and n=80: 0.6740\n",
      "Accuracy for alpha=45 and n=85: 0.6740\n",
      "Accuracy for alpha=45 and n=90: 0.6580\n",
      "Accuracy for alpha=45 and n=95: 0.6540\n",
      "Accuracy for alpha=45 and n=100: 0.6700\n",
      "Accuracy for alpha=45 and n=105: 0.6680\n",
      "Accuracy for alpha=45 and n=110: 0.6680\n",
      "Accuracy for alpha=45 and n=115: 0.6740\n",
      "Accuracy for alpha=45 and n=120: 0.6740\n",
      "Accuracy for alpha=45 and n=125: 0.6860\n",
      "Accuracy for alpha=45 and n=130: 0.6820\n",
      "Accuracy for alpha=45 and n=135: 0.6660\n",
      "Accuracy for alpha=45 and n=140: 0.6760\n",
      "Accuracy for alpha=45 and n=145: 0.6800\n",
      "Accuracy for alpha=45 and n=150: 0.6800\n",
      "Accuracy for alpha=45 and n=155: 0.6720\n",
      "Accuracy for alpha=45 and n=160: 0.6600\n",
      "Accuracy for alpha=45 and n=165: 0.6680\n",
      "Accuracy for alpha=45 and n=170: 0.6780\n",
      "Accuracy for alpha=45 and n=175: 0.6820\n",
      "Accuracy for alpha=45 and n=180: 0.6800\n",
      "Accuracy for alpha=45 and n=185: 0.6800\n",
      "Accuracy for alpha=45 and n=190: 0.6940\n",
      "Accuracy for alpha=45 and n=195: 0.6920\n",
      "Accuracy for alpha=45 and n=200: 0.6760\n",
      "Accuracy for alpha=50 and n=20: 0.6540\n",
      "Accuracy for alpha=50 and n=25: 0.6760\n",
      "Accuracy for alpha=50 and n=30: 0.6580\n",
      "Accuracy for alpha=50 and n=35: 0.6620\n",
      "Accuracy for alpha=50 and n=40: 0.6560\n",
      "Accuracy for alpha=50 and n=45: 0.6800\n",
      "Accuracy for alpha=50 and n=50: 0.6800\n",
      "Accuracy for alpha=50 and n=55: 0.6780\n",
      "Accuracy for alpha=50 and n=60: 0.6680\n",
      "Accuracy for alpha=50 and n=65: 0.6740\n",
      "Accuracy for alpha=50 and n=70: 0.6760\n",
      "Accuracy for alpha=50 and n=75: 0.6740\n",
      "Accuracy for alpha=50 and n=80: 0.6700\n",
      "Accuracy for alpha=50 and n=85: 0.6620\n",
      "Accuracy for alpha=50 and n=90: 0.6780\n",
      "Accuracy for alpha=50 and n=95: 0.6900\n",
      "Accuracy for alpha=50 and n=100: 0.6920\n",
      "Accuracy for alpha=50 and n=105: 0.7000\n",
      "Accuracy for alpha=50 and n=110: 0.6940\n",
      "Accuracy for alpha=50 and n=115: 0.6940\n",
      "Accuracy for alpha=50 and n=120: 0.6920\n",
      "Accuracy for alpha=50 and n=125: 0.6880\n",
      "Accuracy for alpha=50 and n=130: 0.6980\n",
      "Accuracy for alpha=50 and n=135: 0.6880\n",
      "Accuracy for alpha=50 and n=140: 0.6920\n",
      "Accuracy for alpha=50 and n=145: 0.6800\n",
      "Accuracy for alpha=50 and n=150: 0.6920\n",
      "Accuracy for alpha=50 and n=155: 0.6700\n",
      "Accuracy for alpha=50 and n=160: 0.6660\n",
      "Accuracy for alpha=50 and n=165: 0.6620\n",
      "Accuracy for alpha=50 and n=170: 0.6820\n",
      "Accuracy for alpha=50 and n=175: 0.6920\n",
      "Accuracy for alpha=50 and n=180: 0.6860\n",
      "Accuracy for alpha=50 and n=185: 0.6940\n",
      "Accuracy for alpha=50 and n=190: 0.6920\n",
      "Accuracy for alpha=50 and n=195: 0.6900\n",
      "Accuracy for alpha=50 and n=200: 0.6900\n",
      "Accuracy for alpha=55 and n=20: 0.6520\n",
      "Accuracy for alpha=55 and n=25: 0.6600\n",
      "Accuracy for alpha=55 and n=30: 0.6780\n",
      "Accuracy for alpha=55 and n=35: 0.6800\n",
      "Accuracy for alpha=55 and n=40: 0.6780\n",
      "Accuracy for alpha=55 and n=45: 0.6920\n",
      "Accuracy for alpha=55 and n=50: 0.7020\n",
      "Accuracy for alpha=55 and n=55: 0.6900\n",
      "Accuracy for alpha=55 and n=60: 0.6840\n",
      "Accuracy for alpha=55 and n=65: 0.6860\n",
      "Accuracy for alpha=55 and n=70: 0.6880\n",
      "Accuracy for alpha=55 and n=75: 0.7060\n",
      "Accuracy for alpha=55 and n=80: 0.7000\n",
      "Accuracy for alpha=55 and n=85: 0.6860\n",
      "Accuracy for alpha=55 and n=90: 0.6800\n",
      "Accuracy for alpha=55 and n=95: 0.6860\n",
      "Accuracy for alpha=55 and n=100: 0.6940\n",
      "Accuracy for alpha=55 and n=105: 0.6840\n",
      "Accuracy for alpha=55 and n=110: 0.6700\n",
      "Accuracy for alpha=55 and n=115: 0.6720\n",
      "Accuracy for alpha=55 and n=120: 0.6900\n",
      "Accuracy for alpha=55 and n=125: 0.6760\n",
      "Accuracy for alpha=55 and n=130: 0.6920\n",
      "Accuracy for alpha=55 and n=135: 0.6900\n",
      "Accuracy for alpha=55 and n=140: 0.6960\n",
      "Accuracy for alpha=55 and n=145: 0.7020\n",
      "Accuracy for alpha=55 and n=150: 0.6920\n",
      "Accuracy for alpha=55 and n=155: 0.6960\n",
      "Accuracy for alpha=55 and n=160: 0.7020\n",
      "Accuracy for alpha=55 and n=165: 0.6960\n",
      "Accuracy for alpha=55 and n=170: 0.6900\n",
      "Accuracy for alpha=55 and n=175: 0.6900\n",
      "Accuracy for alpha=55 and n=180: 0.6920\n",
      "Accuracy for alpha=55 and n=185: 0.6800\n",
      "Accuracy for alpha=55 and n=190: 0.6940\n",
      "Accuracy for alpha=55 and n=195: 0.7000\n",
      "Accuracy for alpha=55 and n=200: 0.7100\n",
      "Accuracy for alpha=60 and n=20: 0.6380\n",
      "Accuracy for alpha=60 and n=25: 0.6460\n",
      "Accuracy for alpha=60 and n=30: 0.6520\n",
      "Accuracy for alpha=60 and n=35: 0.6720\n",
      "Accuracy for alpha=60 and n=40: 0.6820\n",
      "Accuracy for alpha=60 and n=45: 0.6640\n",
      "Accuracy for alpha=60 and n=50: 0.6780\n",
      "Accuracy for alpha=60 and n=55: 0.6740\n",
      "Accuracy for alpha=60 and n=60: 0.6900\n",
      "Accuracy for alpha=60 and n=65: 0.6840\n",
      "Accuracy for alpha=60 and n=70: 0.6960\n",
      "Accuracy for alpha=60 and n=75: 0.7020\n",
      "Accuracy for alpha=60 and n=80: 0.6840\n",
      "Accuracy for alpha=60 and n=85: 0.6880\n",
      "Accuracy for alpha=60 and n=90: 0.6920\n",
      "Accuracy for alpha=60 and n=95: 0.6940\n",
      "Accuracy for alpha=60 and n=100: 0.7040\n",
      "Accuracy for alpha=60 and n=105: 0.6960\n",
      "Accuracy for alpha=60 and n=110: 0.6980\n",
      "Accuracy for alpha=60 and n=115: 0.6920\n",
      "Accuracy for alpha=60 and n=120: 0.6980\n",
      "Accuracy for alpha=60 and n=125: 0.6920\n",
      "Accuracy for alpha=60 and n=130: 0.6800\n",
      "Accuracy for alpha=60 and n=135: 0.6860\n",
      "Accuracy for alpha=60 and n=140: 0.6980\n",
      "Accuracy for alpha=60 and n=145: 0.6860\n",
      "Accuracy for alpha=60 and n=150: 0.6880\n",
      "Accuracy for alpha=60 and n=155: 0.6940\n",
      "Accuracy for alpha=60 and n=160: 0.6860\n",
      "Accuracy for alpha=60 and n=165: 0.6920\n",
      "Accuracy for alpha=60 and n=170: 0.6840\n",
      "Accuracy for alpha=60 and n=175: 0.6860\n",
      "Accuracy for alpha=60 and n=180: 0.6920\n",
      "Accuracy for alpha=60 and n=185: 0.6840\n",
      "Accuracy for alpha=60 and n=190: 0.6960\n",
      "Accuracy for alpha=60 and n=195: 0.7020\n",
      "Accuracy for alpha=60 and n=200: 0.6920\n",
      "Accuracy for alpha=65 and n=20: 0.6420\n",
      "Accuracy for alpha=65 and n=25: 0.6600\n",
      "Accuracy for alpha=65 and n=30: 0.6620\n",
      "Accuracy for alpha=65 and n=35: 0.6640\n",
      "Accuracy for alpha=65 and n=40: 0.6820\n",
      "Accuracy for alpha=65 and n=45: 0.6940\n",
      "Accuracy for alpha=65 and n=50: 0.6780\n",
      "Accuracy for alpha=65 and n=55: 0.6900\n",
      "Accuracy for alpha=65 and n=60: 0.6820\n",
      "Accuracy for alpha=65 and n=65: 0.6780\n"
     ]
    },
    {
     "ename": "KeyboardInterrupt",
     "evalue": "",
     "output_type": "error",
     "traceback": [
      "\u001b[0;31m---------------------------------------------------------------------------\u001b[0m",
      "\u001b[0;31mKeyboardInterrupt\u001b[0m                         Traceback (most recent call last)",
      "\u001b[0;32m<ipython-input-10-5f352986c803>\u001b[0m in \u001b[0;36m<module>\u001b[0;34m\u001b[0m\n\u001b[1;32m     20\u001b[0m         \u001b[0mnearest\u001b[0m\u001b[0;34m.\u001b[0m\u001b[0mfit\u001b[0m\u001b[0;34m(\u001b[0m\u001b[0mx_train\u001b[0m\u001b[0;34m,\u001b[0m \u001b[0my_train\u001b[0m\u001b[0;34m)\u001b[0m\u001b[0;34m\u001b[0m\u001b[0;34m\u001b[0m\u001b[0m\n\u001b[1;32m     21\u001b[0m \u001b[0;34m\u001b[0m\u001b[0m\n\u001b[0;32m---> 22\u001b[0;31m         \u001b[0mactual\u001b[0m \u001b[0;34m=\u001b[0m \u001b[0mnearest\u001b[0m\u001b[0;34m.\u001b[0m\u001b[0mscore\u001b[0m\u001b[0;34m(\u001b[0m\u001b[0mx_test\u001b[0m\u001b[0;34m,\u001b[0m \u001b[0my_test\u001b[0m\u001b[0;34m)\u001b[0m\u001b[0;34m\u001b[0m\u001b[0;34m\u001b[0m\u001b[0m\n\u001b[0m\u001b[1;32m     23\u001b[0m         \u001b[0;32mif\u001b[0m \u001b[0mactual\u001b[0m \u001b[0;34m==\u001b[0m \u001b[0mbest\u001b[0m\u001b[0;34m:\u001b[0m\u001b[0;34m\u001b[0m\u001b[0;34m\u001b[0m\u001b[0m\n\u001b[1;32m     24\u001b[0m             \u001b[0mmejores\u001b[0m\u001b[0;34m.\u001b[0m\u001b[0mappend\u001b[0m\u001b[0;34m(\u001b[0m\u001b[0;34m(\u001b[0m\u001b[0malpha\u001b[0m\u001b[0;34m,\u001b[0m \u001b[0mn\u001b[0m\u001b[0;34m)\u001b[0m\u001b[0;34m)\u001b[0m\u001b[0;34m\u001b[0m\u001b[0;34m\u001b[0m\u001b[0m\n",
      "\u001b[0;32m~/git_repo/Reviews/notebooks/knn.py\u001b[0m in \u001b[0;36mscore\u001b[0;34m(self, data_test, result_test)\u001b[0m\n\u001b[1;32m     59\u001b[0m         \u001b[0;32mfor\u001b[0m \u001b[0mrow\u001b[0m \u001b[0;32min\u001b[0m \u001b[0mdata_test\u001b[0m\u001b[0;34m:\u001b[0m  \u001b[0;31m# Normalize dataset\u001b[0m\u001b[0;34m\u001b[0m\u001b[0;34m\u001b[0m\u001b[0m\n\u001b[1;32m     60\u001b[0m             \u001b[0mrow\u001b[0m \u001b[0;34m=\u001b[0m \u001b[0mrow\u001b[0m \u001b[0;34m/\u001b[0m \u001b[0mnp\u001b[0m\u001b[0;34m.\u001b[0m\u001b[0mlinalg\u001b[0m\u001b[0;34m.\u001b[0m\u001b[0mnorm\u001b[0m\u001b[0;34m(\u001b[0m\u001b[0mrow\u001b[0m\u001b[0;34m)\u001b[0m\u001b[0;34m\u001b[0m\u001b[0;34m\u001b[0m\u001b[0m\n\u001b[0;32m---> 61\u001b[0;31m         \u001b[0mpredict_test\u001b[0m \u001b[0;34m=\u001b[0m \u001b[0mself\u001b[0m\u001b[0;34m.\u001b[0m\u001b[0mpredict\u001b[0m\u001b[0;34m(\u001b[0m\u001b[0mdata_test\u001b[0m\u001b[0;34m)\u001b[0m  \u001b[0;31m# Predict classification\u001b[0m\u001b[0;34m\u001b[0m\u001b[0;34m\u001b[0m\u001b[0m\n\u001b[0m\u001b[1;32m     62\u001b[0m         \u001b[0;32massert\u001b[0m\u001b[0;34m(\u001b[0m\u001b[0mlen\u001b[0m\u001b[0;34m(\u001b[0m\u001b[0mresult_test\u001b[0m\u001b[0;34m)\u001b[0m \u001b[0;34m==\u001b[0m \u001b[0mlen\u001b[0m\u001b[0;34m(\u001b[0m\u001b[0mpredict_test\u001b[0m\u001b[0;34m)\u001b[0m\u001b[0;34m)\u001b[0m\u001b[0;34m\u001b[0m\u001b[0;34m\u001b[0m\u001b[0m\n\u001b[1;32m     63\u001b[0m         \u001b[0msuma\u001b[0m \u001b[0;34m=\u001b[0m \u001b[0;36m0.0\u001b[0m\u001b[0;34m\u001b[0m\u001b[0;34m\u001b[0m\u001b[0m\n",
      "\u001b[0;32m~/git_repo/Reviews/notebooks/knn.py\u001b[0m in \u001b[0;36mpredict\u001b[0;34m(self, data_test)\u001b[0m\n\u001b[1;32m     52\u001b[0m         \u001b[0;31m# Classify each row of the dataset.\u001b[0m\u001b[0;34m\u001b[0m\u001b[0;34m\u001b[0m\u001b[0;34m\u001b[0m\u001b[0m\n\u001b[1;32m     53\u001b[0m         ret = np.array(\n\u001b[0;32m---> 54\u001b[0;31m             [self.predict_row(data_test[k]) for k in range(len(data_test))])\n\u001b[0m\u001b[1;32m     55\u001b[0m         \u001b[0;32mreturn\u001b[0m \u001b[0mret\u001b[0m\u001b[0;34m\u001b[0m\u001b[0;34m\u001b[0m\u001b[0m\n\u001b[1;32m     56\u001b[0m \u001b[0;34m\u001b[0m\u001b[0m\n",
      "\u001b[0;32m~/git_repo/Reviews/notebooks/knn.py\u001b[0m in \u001b[0;36m<listcomp>\u001b[0;34m(.0)\u001b[0m\n\u001b[1;32m     52\u001b[0m         \u001b[0;31m# Classify each row of the dataset.\u001b[0m\u001b[0;34m\u001b[0m\u001b[0;34m\u001b[0m\u001b[0;34m\u001b[0m\u001b[0m\n\u001b[1;32m     53\u001b[0m         ret = np.array(\n\u001b[0;32m---> 54\u001b[0;31m             [self.predict_row(data_test[k]) for k in range(len(data_test))])\n\u001b[0m\u001b[1;32m     55\u001b[0m         \u001b[0;32mreturn\u001b[0m \u001b[0mret\u001b[0m\u001b[0;34m\u001b[0m\u001b[0;34m\u001b[0m\u001b[0m\n\u001b[1;32m     56\u001b[0m \u001b[0;34m\u001b[0m\u001b[0m\n",
      "\u001b[0;32m~/git_repo/Reviews/notebooks/knn.py\u001b[0m in \u001b[0;36mpredict_row\u001b[0;34m(self, v)\u001b[0m\n\u001b[1;32m     34\u001b[0m     \u001b[0;32mdef\u001b[0m \u001b[0mpredict_row\u001b[0m\u001b[0;34m(\u001b[0m\u001b[0mself\u001b[0m\u001b[0;34m,\u001b[0m \u001b[0mv\u001b[0m\u001b[0;34m)\u001b[0m\u001b[0;34m:\u001b[0m\u001b[0;34m\u001b[0m\u001b[0;34m\u001b[0m\u001b[0m\n\u001b[1;32m     35\u001b[0m         \u001b[0;34m'''Predicts a vector and returns its classification predicted.'''\u001b[0m\u001b[0;34m\u001b[0m\u001b[0;34m\u001b[0m\u001b[0m\n\u001b[0;32m---> 36\u001b[0;31m         \u001b[0mdistances\u001b[0m \u001b[0;34m=\u001b[0m \u001b[0mself\u001b[0m\u001b[0;34m.\u001b[0m\u001b[0mdistance_to_row\u001b[0m\u001b[0;34m(\u001b[0m\u001b[0mv\u001b[0m\u001b[0;34m)\u001b[0m  \u001b[0;31m# Calculate closest indices.\u001b[0m\u001b[0;34m\u001b[0m\u001b[0;34m\u001b[0m\u001b[0m\n\u001b[0m\u001b[1;32m     37\u001b[0m         \u001b[0;31m# Classify according to indices.\u001b[0m\u001b[0;34m\u001b[0m\u001b[0;34m\u001b[0m\u001b[0;34m\u001b[0m\u001b[0m\n\u001b[1;32m     38\u001b[0m         \u001b[0mclassify\u001b[0m \u001b[0;34m=\u001b[0m \u001b[0;34m[\u001b[0m\u001b[0mself\u001b[0m\u001b[0;34m.\u001b[0m\u001b[0mresult_train\u001b[0m\u001b[0;34m[\u001b[0m\u001b[0mi\u001b[0m\u001b[0;34m]\u001b[0m \u001b[0;32mfor\u001b[0m \u001b[0mi\u001b[0m \u001b[0;32min\u001b[0m \u001b[0mdistances\u001b[0m\u001b[0;34m]\u001b[0m\u001b[0;34m\u001b[0m\u001b[0;34m\u001b[0m\u001b[0m\n",
      "\u001b[0;32m~/git_repo/Reviews/notebooks/knn.py\u001b[0m in \u001b[0;36mdistance_to_row\u001b[0;34m(self, v)\u001b[0m\n\u001b[1;32m     26\u001b[0m         \u001b[0;31m# Array of pairs(norm, index).\u001b[0m\u001b[0;34m\u001b[0m\u001b[0;34m\u001b[0m\u001b[0;34m\u001b[0m\u001b[0m\n\u001b[1;32m     27\u001b[0m         distances = [(np.linalg.norm((self.data_train)[i] - v, 1), i)\n\u001b[0;32m---> 28\u001b[0;31m                      for i in range(len(self.data_train))]\n\u001b[0m\u001b[1;32m     29\u001b[0m         \u001b[0mdistances\u001b[0m\u001b[0;34m.\u001b[0m\u001b[0msort\u001b[0m\u001b[0;34m(\u001b[0m\u001b[0;34m)\u001b[0m  \u001b[0;31m# Sort with respect to the euclidean distance.\u001b[0m\u001b[0;34m\u001b[0m\u001b[0;34m\u001b[0m\u001b[0m\n\u001b[1;32m     30\u001b[0m         \u001b[0mdistances\u001b[0m \u001b[0;34m=\u001b[0m \u001b[0;34m[\u001b[0m\u001b[0mb\u001b[0m \u001b[0;32mfor\u001b[0m \u001b[0ma\u001b[0m\u001b[0;34m,\u001b[0m \u001b[0mb\u001b[0m \u001b[0;32min\u001b[0m \u001b[0mdistances\u001b[0m\u001b[0;34m]\u001b[0m  \u001b[0;31m# Keep the indices.\u001b[0m\u001b[0;34m\u001b[0m\u001b[0;34m\u001b[0m\u001b[0m\n",
      "\u001b[0;32m~/git_repo/Reviews/notebooks/knn.py\u001b[0m in \u001b[0;36m<listcomp>\u001b[0;34m(.0)\u001b[0m\n\u001b[1;32m     26\u001b[0m         \u001b[0;31m# Array of pairs(norm, index).\u001b[0m\u001b[0;34m\u001b[0m\u001b[0;34m\u001b[0m\u001b[0;34m\u001b[0m\u001b[0m\n\u001b[1;32m     27\u001b[0m         distances = [(np.linalg.norm((self.data_train)[i] - v, 1), i)\n\u001b[0;32m---> 28\u001b[0;31m                      for i in range(len(self.data_train))]\n\u001b[0m\u001b[1;32m     29\u001b[0m         \u001b[0mdistances\u001b[0m\u001b[0;34m.\u001b[0m\u001b[0msort\u001b[0m\u001b[0;34m(\u001b[0m\u001b[0;34m)\u001b[0m  \u001b[0;31m# Sort with respect to the euclidean distance.\u001b[0m\u001b[0;34m\u001b[0m\u001b[0;34m\u001b[0m\u001b[0m\n\u001b[1;32m     30\u001b[0m         \u001b[0mdistances\u001b[0m \u001b[0;34m=\u001b[0m \u001b[0;34m[\u001b[0m\u001b[0mb\u001b[0m \u001b[0;32mfor\u001b[0m \u001b[0ma\u001b[0m\u001b[0;34m,\u001b[0m \u001b[0mb\u001b[0m \u001b[0;32min\u001b[0m \u001b[0mdistances\u001b[0m\u001b[0;34m]\u001b[0m  \u001b[0;31m# Keep the indices.\u001b[0m\u001b[0;34m\u001b[0m\u001b[0;34m\u001b[0m\u001b[0m\n",
      "\u001b[0;31mKeyboardInterrupt\u001b[0m: "
     ]
    }
   ],
   "source": [
    "#import numpy as np\n",
    "\n",
    "best = 0\n",
    "mejores = []\n",
    "\n",
    "for alpha in range(40,400,5):\n",
    "\n",
    "    component = pca.PCA(alpha)\n",
    "    x_train = X_train\n",
    "    x_test = X_test\n",
    "    component.fit(x_train)\n",
    "\n",
    "    x_train = component.transform(x_train)\n",
    "    x_test = component.transform(x_test)\n",
    "\n",
    "    for n in range(20,201,5):\n",
    "        if alpha == 40 and n <= 120:\n",
    "            continue\n",
    "        nearest = knn.KNNClassifier(n)\n",
    "        nearest.fit(x_train, y_train)\n",
    "\n",
    "        actual = nearest.score(x_test, y_test)\n",
    "        if actual == best:\n",
    "            mejores.append((alpha, n))\n",
    "        elif actual > best:\n",
    "            best = actual\n",
    "            mejores = [(alpha,n)]\n",
    "        print('Accuracy for alpha={:d} and n={:d}: {:.4f}'\n",
    "             .format(alpha, n, actual))"
   ]
  },
  {
   "cell_type": "code",
   "execution_count": 8,
   "metadata": {},
   "outputs": [
    {
     "name": "stdout",
     "output_type": "stream",
     "text": [
      "0.672\n"
     ]
    }
   ],
   "source": [
    "#This cell is to run a particular value of components and neighbours.\n",
    "\n",
    "comp = 55  # Set the value for the components.\n",
    "neigh = 220  # Set the value for the neighbours.\n",
    "\n",
    "import pca\n",
    "import knn\n",
    "import numpy as np\n",
    "\n",
    "for row in X_train:\n",
    "    row = row / np.linalg.norm(row)\n",
    "\n",
    "for row in X_test:\n",
    "    row = row / np.linalg.norm(row)\n",
    "\n",
    "pcA = pca.PCA(comp)\n",
    "pcA.fit(X_train)\n",
    "\n",
    "X_reduce = pcA.transform(X_train)\n",
    "\n",
    "X_rtest = pcA.transform(X_test)\n",
    "\n",
    "\n",
    "\n",
    "clf = knn.KNNClassifier(neigh)\n",
    "clf.fit(X_reduce, y_train)\n",
    "\n",
    "print(clf.score(X_rtest,y_test))"
   ]
  },
  {
   "cell_type": "code",
   "execution_count": 11,
   "metadata": {},
   "outputs": [
    {
     "name": "stdout",
     "output_type": "stream",
     "text": [
      "0.71\n",
      "[(55, 200)]\n"
     ]
    }
   ],
   "source": [
    "print(best)\n",
    "print(mejores)"
   ]
  }
 ],
 "metadata": {
  "kernelspec": {
   "display_name": "Python 3",
   "language": "python",
   "name": "python3"
  },
  "language_info": {
   "codemirror_mode": {
    "name": "ipython",
    "version": 3
   },
   "file_extension": ".py",
   "mimetype": "text/x-python",
   "name": "python",
   "nbconvert_exporter": "python",
   "pygments_lexer": "ipython3",
   "version": "3.7.5"
  }
 },
 "nbformat": 4,
 "nbformat_minor": 2
}
