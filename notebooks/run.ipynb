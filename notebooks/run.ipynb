{
 "cells": [
  {
   "cell_type": "markdown",
   "metadata": {},
   "source": [
    "# Sentiment Analysis with KNN and PCA\n"
   ]
  },
  {
   "cell_type": "markdown",
   "metadata": {},
   "source": [
    "Definir los path al ejecutable de python 3.6 y sus librerías,\n",
    "de acuerdo al virtual env que estén corriendo."
   ]
  },
  {
   "cell_type": "code",
   "execution_count": 1,
   "metadata": {},
   "outputs": [
    {
     "name": "stdout",
     "output_type": "stream",
     "text": "/home/agustin/git_repo/Reviews/notebooks\nPython 3.7.5\n"
    }
   ],
   "source": [
    "# Verifico la correcta instalación. Si no falla el import está OK\n",
    "!pwd\n",
    "!python3 --version\n",
    "    "
   ]
  },
  {
   "cell_type": "code",
   "execution_count": 2,
   "metadata": {},
   "outputs": [
    {
     "name": "stdout",
     "output_type": "stream",
     "text": "tar: *.tgz: No se puede efectuar open: No existe el archivo o el directorio\ntar: Error is not recoverable: exiting now\nCantidad de documentos: 12500\n"
    }
   ],
   "source": [
    "%load_ext autoreload\n",
    "%autoreload 2\n",
    "import pandas as pd\n",
    "\n",
    "!cd ../data && tar -xvf *.tgz\n",
    "\n",
    "df = pd.read_csv(\"../data/imdb_small.csv\", index_col=0)\n",
    "\n",
    "print(\"Cantidad de documentos: {}\".format(df.shape[0]))"
   ]
  },
  {
   "cell_type": "code",
   "execution_count": 38,
   "metadata": {},
   "outputs": [
    {
     "data": {
      "text/html": [
       "<div>\n",
       "<style scoped>\n",
       "    .dataframe tbody tr th:only-of-type {\n",
       "        vertical-align: middle;\n",
       "    }\n",
       "\n",
       "    .dataframe tbody tr th {\n",
       "        vertical-align: top;\n",
       "    }\n",
       "\n",
       "    .dataframe thead th {\n",
       "        text-align: right;\n",
       "    }\n",
       "</style>\n",
       "<table border=\"1\" class=\"dataframe\">\n",
       "  <thead>\n",
       "    <tr style=\"text-align: right;\">\n",
       "      <th></th>\n",
       "      <th>type</th>\n",
       "      <th>review</th>\n",
       "      <th>label</th>\n",
       "      <th>file</th>\n",
       "    </tr>\n",
       "  </thead>\n",
       "  <tbody>\n",
       "    <tr>\n",
       "      <th>count</th>\n",
       "      <td>12500</td>\n",
       "      <td>12500</td>\n",
       "      <td>12500</td>\n",
       "      <td>12500</td>\n",
       "    </tr>\n",
       "    <tr>\n",
       "      <th>unique</th>\n",
       "      <td>2</td>\n",
       "      <td>12469</td>\n",
       "      <td>2</td>\n",
       "      <td>12085</td>\n",
       "    </tr>\n",
       "    <tr>\n",
       "      <th>top</th>\n",
       "      <td>test</td>\n",
       "      <td>Corridors of time. The movie you can watch if ...</td>\n",
       "      <td>neg</td>\n",
       "      <td>1502_10.txt</td>\n",
       "    </tr>\n",
       "    <tr>\n",
       "      <th>freq</th>\n",
       "      <td>6275</td>\n",
       "      <td>2</td>\n",
       "      <td>6322</td>\n",
       "      <td>2</td>\n",
       "    </tr>\n",
       "  </tbody>\n",
       "</table>\n",
       "</div>"
      ],
      "text/plain": [
       "         type                                             review  label  \\\n",
       "count   12500                                              12500  12500   \n",
       "unique      2                                              12469      2   \n",
       "top      test  Corridors of time. The movie you can watch if ...    neg   \n",
       "freq     6275                                                  2   6322   \n",
       "\n",
       "               file  \n",
       "count         12500  \n",
       "unique        12085  \n",
       "top     1502_10.txt  \n",
       "freq              2  "
      ]
     },
     "execution_count": 38,
     "metadata": {},
     "output_type": "execute_result"
    }
   ],
   "source": [
    "df.describe()"
   ]
  },
  {
   "cell_type": "code",
   "execution_count": 3,
   "metadata": {},
   "outputs": [
    {
     "name": "stdout",
     "output_type": "stream",
     "text": "Cantidad de instancias de entrenamiento = 3000\nCantidad de instancias de test = 500\n"
    }
   ],
   "source": [
    "text_train = df[df.type == 'train'][\"review\"]\n",
    "label_train = df[df.type == 'train'][\"label\"]\n",
    "text_train = text_train[0:3000]\n",
    "label_train = label_train[0:3000]\n",
    "\n",
    "text_test = df[df.type == 'test'][\"review\"]\n",
    "label_test = df[df.type == 'test'][\"label\"]\n",
    "text_test = text_test[0:500]\n",
    "label_test = label_test[0:500]\n",
    "\n",
    "print(\"Cantidad de instancias de entrenamiento = {}\".format(len(text_train)))\n",
    "print(\"Cantidad de instancias de test = {}\".format(len(text_test)))\n"
   ]
  },
  {
   "cell_type": "code",
   "execution_count": 4,
   "metadata": {},
   "outputs": [
    {
     "name": "stdout",
     "output_type": "stream",
     "text": "Class balance : 1487 pos 1513 neg\n"
    }
   ],
   "source": [
    "print(\"Class balance : {} pos {} neg\".format(\n",
    "    (label_train == 'pos').sum(),\n",
    "    (label_train == 'neg').sum() ))\n"
   ]
  },
  {
   "cell_type": "code",
   "execution_count": 5,
   "metadata": {},
   "outputs": [],
   "source": [
    "from sklearn.feature_extraction.text import CountVectorizer\n",
    "\n",
    "vectorizer = CountVectorizer(max_df=0.90, min_df=0.01, max_features=500, ngram_range = (1,2))\n",
    "\n",
    "vectorizer.fit(text_train)\n",
    "\n",
    "X_train, y_train = vectorizer.transform(text_train), (label_train == 'pos').values\n",
    "X_test, y_test = vectorizer.transform(text_test), (label_test == 'pos').values\n",
    "\n",
    "X_train = X_train.toarray()\n",
    "X_test = X_test.toarray()"
   ]
  },
  {
   "cell_type": "code",
   "execution_count": 9,
   "metadata": {},
   "outputs": [
    {
     "name": "stdout",
     "output_type": "stream",
     "text": "PREDIQUE\nAccuracy for alpha=20 and n=20: 0.6400\nPREDIQUE\nAccuracy for alpha=20 and n=25: 0.6620\nPREDIQUE\nAccuracy for alpha=20 and n=30: 0.6380\nPREDIQUE\nAccuracy for alpha=20 and n=35: 0.6440\nPREDIQUE\nAccuracy for alpha=20 and n=40: 0.6520\nPREDIQUE\nAccuracy for alpha=20 and n=45: 0.6460\nPREDIQUE\nAccuracy for alpha=20 and n=50: 0.6520\nPREDIQUE\nAccuracy for alpha=20 and n=55: 0.6540\nPREDIQUE\nAccuracy for alpha=20 and n=60: 0.6380\nPREDIQUE\nAccuracy for alpha=20 and n=65: 0.6480\nPREDIQUE\nAccuracy for alpha=20 and n=70: 0.6760\nPREDIQUE\nAccuracy for alpha=20 and n=75: 0.6620\nPREDIQUE\nAccuracy for alpha=20 and n=80: 0.6680\nPREDIQUE\nAccuracy for alpha=20 and n=85: 0.6740\nPREDIQUE\nAccuracy for alpha=20 and n=90: 0.6740\nPREDIQUE\nAccuracy for alpha=20 and n=95: 0.6660\nPREDIQUE\nAccuracy for alpha=20 and n=100: 0.6480\nPREDIQUE\nAccuracy for alpha=20 and n=105: 0.6500\nPREDIQUE\nAccuracy for alpha=20 and n=110: 0.6520\nPREDIQUE\nAccuracy for alpha=20 and n=115: 0.6520\nPREDIQUE\nAccuracy for alpha=20 and n=120: 0.6440\nPREDIQUE\nAccuracy for alpha=20 and n=125: 0.6620\nPREDIQUE\nAccuracy for alpha=20 and n=130: 0.6600\nPREDIQUE\nAccuracy for alpha=20 and n=135: 0.6560\nPREDIQUE\nAccuracy for alpha=20 and n=140: 0.6580\nPREDIQUE\nAccuracy for alpha=20 and n=145: 0.6580\nPREDIQUE\nAccuracy for alpha=20 and n=150: 0.6560\nPREDIQUE\nAccuracy for alpha=20 and n=155: 0.6600\nPREDIQUE\nAccuracy for alpha=20 and n=160: 0.6580\nPREDIQUE\nAccuracy for alpha=20 and n=165: 0.6640\nPREDIQUE\nAccuracy for alpha=20 and n=170: 0.6560\nPREDIQUE\nAccuracy for alpha=20 and n=175: 0.6520\nPREDIQUE\nAccuracy for alpha=20 and n=180: 0.6540\nPREDIQUE\nAccuracy for alpha=20 and n=185: 0.6560\nPREDIQUE\nAccuracy for alpha=20 and n=190: 0.6480\nPREDIQUE\nAccuracy for alpha=20 and n=195: 0.6500\nPREDIQUE\nAccuracy for alpha=25 and n=20: 0.6200\nPREDIQUE\nAccuracy for alpha=25 and n=25: 0.6520\nPREDIQUE\nAccuracy for alpha=25 and n=30: 0.6600\nPREDIQUE\nAccuracy for alpha=25 and n=35: 0.6420\nPREDIQUE\nAccuracy for alpha=25 and n=40: 0.6720\nPREDIQUE\nAccuracy for alpha=25 and n=45: 0.6700\nPREDIQUE\nAccuracy for alpha=25 and n=50: 0.6720\nPREDIQUE\nAccuracy for alpha=25 and n=55: 0.6500\nPREDIQUE\nAccuracy for alpha=25 and n=60: 0.6280\nPREDIQUE\nAccuracy for alpha=25 and n=65: 0.6300\nPREDIQUE\nAccuracy for alpha=25 and n=70: 0.6160\nPREDIQUE\nAccuracy for alpha=25 and n=75: 0.6340\nPREDIQUE\nAccuracy for alpha=25 and n=80: 0.6400\nPREDIQUE\nAccuracy for alpha=25 and n=85: 0.6420\nPREDIQUE\nAccuracy for alpha=25 and n=90: 0.6340\nPREDIQUE\nAccuracy for alpha=25 and n=95: 0.6380\nPREDIQUE\nAccuracy for alpha=25 and n=100: 0.6460\nPREDIQUE\nAccuracy for alpha=25 and n=105: 0.6560\nPREDIQUE\nAccuracy for alpha=25 and n=110: 0.6620\nPREDIQUE\nAccuracy for alpha=25 and n=115: 0.6400\nPREDIQUE\nAccuracy for alpha=25 and n=120: 0.6400\nPREDIQUE\nAccuracy for alpha=25 and n=125: 0.6240\nPREDIQUE\nAccuracy for alpha=25 and n=130: 0.6320\nPREDIQUE\nAccuracy for alpha=25 and n=135: 0.6440\nPREDIQUE\nAccuracy for alpha=25 and n=140: 0.6420\nPREDIQUE\nAccuracy for alpha=25 and n=145: 0.6400\nPREDIQUE\nAccuracy for alpha=25 and n=150: 0.6400\nPREDIQUE\nAccuracy for alpha=25 and n=155: 0.6440\nPREDIQUE\nAccuracy for alpha=25 and n=160: 0.6440\nPREDIQUE\nAccuracy for alpha=25 and n=165: 0.6460\nPREDIQUE\nAccuracy for alpha=25 and n=170: 0.6580\nPREDIQUE\nAccuracy for alpha=25 and n=175: 0.6540\nPREDIQUE\nAccuracy for alpha=25 and n=180: 0.6620\nPREDIQUE\nAccuracy for alpha=25 and n=185: 0.6720\nPREDIQUE\nAccuracy for alpha=25 and n=190: 0.6580\nPREDIQUE\nAccuracy for alpha=25 and n=195: 0.6660\nPREDIQUE\nAccuracy for alpha=30 and n=20: 0.6200\nPREDIQUE\nAccuracy for alpha=30 and n=25: 0.6380\n"
    },
    {
     "ename": "KeyboardInterrupt",
     "evalue": "",
     "output_type": "error",
     "traceback": [
      "\u001b[0;31m---------------------------------------------------------------------------\u001b[0m",
      "\u001b[0;31mKeyboardInterrupt\u001b[0m                         Traceback (most recent call last)",
      "\u001b[0;32m<ipython-input-9-52c3f345e6ae>\u001b[0m in \u001b[0;36m<module>\u001b[0;34m\u001b[0m\n\u001b[1;32m     19\u001b[0m         \u001b[0mnearest\u001b[0m\u001b[0;34m.\u001b[0m\u001b[0mfit\u001b[0m\u001b[0;34m(\u001b[0m\u001b[0mx_train\u001b[0m\u001b[0;34m,\u001b[0m \u001b[0my_train\u001b[0m\u001b[0;34m)\u001b[0m\u001b[0;34m\u001b[0m\u001b[0;34m\u001b[0m\u001b[0m\n\u001b[1;32m     20\u001b[0m \u001b[0;34m\u001b[0m\u001b[0m\n\u001b[0;32m---> 21\u001b[0;31m         \u001b[0mactual\u001b[0m \u001b[0;34m=\u001b[0m \u001b[0mnearest\u001b[0m\u001b[0;34m.\u001b[0m\u001b[0mscore\u001b[0m\u001b[0;34m(\u001b[0m\u001b[0mx_test\u001b[0m\u001b[0;34m,\u001b[0m \u001b[0my_test\u001b[0m\u001b[0;34m)\u001b[0m\u001b[0;34m\u001b[0m\u001b[0;34m\u001b[0m\u001b[0m\n\u001b[0m\u001b[1;32m     22\u001b[0m         \u001b[0;32mif\u001b[0m \u001b[0mactual\u001b[0m \u001b[0;34m==\u001b[0m \u001b[0mbest\u001b[0m\u001b[0;34m:\u001b[0m\u001b[0;34m\u001b[0m\u001b[0;34m\u001b[0m\u001b[0m\n\u001b[1;32m     23\u001b[0m             \u001b[0mmejores\u001b[0m\u001b[0;34m.\u001b[0m\u001b[0mappend\u001b[0m\u001b[0;34m(\u001b[0m\u001b[0;34m(\u001b[0m\u001b[0malpha\u001b[0m\u001b[0;34m,\u001b[0m \u001b[0mn\u001b[0m\u001b[0;34m)\u001b[0m\u001b[0;34m)\u001b[0m\u001b[0;34m\u001b[0m\u001b[0;34m\u001b[0m\u001b[0m\n",
      "\u001b[0;32m~/git_repo/Reviews/notebooks/knn.py\u001b[0m in \u001b[0;36mscore\u001b[0;34m(self, data_test, result_test)\u001b[0m\n\u001b[1;32m     46\u001b[0m         \u001b[0;32melse\u001b[0m\u001b[0;34m:\u001b[0m  \u001b[0;31m# If there is a tie, return random.\u001b[0m\u001b[0;34m\u001b[0m\u001b[0;34m\u001b[0m\u001b[0m\n\u001b[1;32m     47\u001b[0m             \u001b[0;32mreturn\u001b[0m \u001b[0mrandom\u001b[0m\u001b[0;34m.\u001b[0m\u001b[0mrandint\u001b[0m\u001b[0;34m(\u001b[0m\u001b[0;36m0\u001b[0m\u001b[0;34m,\u001b[0m \u001b[0;36m1\u001b[0m\u001b[0;34m)\u001b[0m\u001b[0;34m\u001b[0m\u001b[0;34m\u001b[0m\u001b[0m\n\u001b[0;32m---> 48\u001b[0;31m \u001b[0;34m\u001b[0m\u001b[0m\n\u001b[0m\u001b[1;32m     49\u001b[0m     \u001b[0;32mdef\u001b[0m \u001b[0mpredict\u001b[0m\u001b[0;34m(\u001b[0m\u001b[0mself\u001b[0m\u001b[0;34m,\u001b[0m \u001b[0mdata_test\u001b[0m\u001b[0;34m)\u001b[0m\u001b[0;34m:\u001b[0m\u001b[0;34m\u001b[0m\u001b[0;34m\u001b[0m\u001b[0m\n\u001b[1;32m     50\u001b[0m         '''Predicts a whole data_set, and returns a vector of the\n",
      "\u001b[0;32m~/git_repo/Reviews/notebooks/knn.py\u001b[0m in \u001b[0;36mpredict\u001b[0;34m(self, A)\u001b[0m\n\u001b[1;32m     39\u001b[0m         \u001b[0msum\u001b[0m \u001b[0;34m=\u001b[0m \u001b[0;36m0\u001b[0m  \u001b[0;31m# Calculate the amount of ones predicted.\u001b[0m\u001b[0;34m\u001b[0m\u001b[0;34m\u001b[0m\u001b[0m\n\u001b[1;32m     40\u001b[0m         \u001b[0;32mfor\u001b[0m \u001b[0mvalue\u001b[0m \u001b[0;32min\u001b[0m \u001b[0mclassify\u001b[0m\u001b[0;34m:\u001b[0m\u001b[0;34m\u001b[0m\u001b[0;34m\u001b[0m\u001b[0m\n\u001b[0;32m---> 41\u001b[0;31m             \u001b[0msum\u001b[0m \u001b[0;34m=\u001b[0m \u001b[0msum\u001b[0m \u001b[0;34m+\u001b[0m \u001b[0mvalue\u001b[0m\u001b[0;34m\u001b[0m\u001b[0;34m\u001b[0m\u001b[0m\n\u001b[0m\u001b[1;32m     42\u001b[0m         \u001b[0;32mif\u001b[0m \u001b[0;36m2\u001b[0m\u001b[0;34m*\u001b[0m\u001b[0msum\u001b[0m \u001b[0;34m>\u001b[0m \u001b[0mlen\u001b[0m\u001b[0;34m(\u001b[0m\u001b[0mclassify\u001b[0m\u001b[0;34m)\u001b[0m\u001b[0;34m:\u001b[0m  \u001b[0;31m# More ones than zeros predicted.\u001b[0m\u001b[0;34m\u001b[0m\u001b[0;34m\u001b[0m\u001b[0m\n\u001b[1;32m     43\u001b[0m             \u001b[0;32mreturn\u001b[0m \u001b[0;36m1\u001b[0m\u001b[0;34m\u001b[0m\u001b[0;34m\u001b[0m\u001b[0m\n",
      "\u001b[0;32m~/git_repo/Reviews/notebooks/knn.py\u001b[0m in \u001b[0;36m<listcomp>\u001b[0;34m(.0)\u001b[0m\n\u001b[1;32m     39\u001b[0m         \u001b[0msum\u001b[0m \u001b[0;34m=\u001b[0m \u001b[0;36m0\u001b[0m  \u001b[0;31m# Calculate the amount of ones predicted.\u001b[0m\u001b[0;34m\u001b[0m\u001b[0;34m\u001b[0m\u001b[0m\n\u001b[1;32m     40\u001b[0m         \u001b[0;32mfor\u001b[0m \u001b[0mvalue\u001b[0m \u001b[0;32min\u001b[0m \u001b[0mclassify\u001b[0m\u001b[0;34m:\u001b[0m\u001b[0;34m\u001b[0m\u001b[0;34m\u001b[0m\u001b[0m\n\u001b[0;32m---> 41\u001b[0;31m             \u001b[0msum\u001b[0m \u001b[0;34m=\u001b[0m \u001b[0msum\u001b[0m \u001b[0;34m+\u001b[0m \u001b[0mvalue\u001b[0m\u001b[0;34m\u001b[0m\u001b[0;34m\u001b[0m\u001b[0m\n\u001b[0m\u001b[1;32m     42\u001b[0m         \u001b[0;32mif\u001b[0m \u001b[0;36m2\u001b[0m\u001b[0;34m*\u001b[0m\u001b[0msum\u001b[0m \u001b[0;34m>\u001b[0m \u001b[0mlen\u001b[0m\u001b[0;34m(\u001b[0m\u001b[0mclassify\u001b[0m\u001b[0;34m)\u001b[0m\u001b[0;34m:\u001b[0m  \u001b[0;31m# More ones than zeros predicted.\u001b[0m\u001b[0;34m\u001b[0m\u001b[0;34m\u001b[0m\u001b[0m\n\u001b[1;32m     43\u001b[0m             \u001b[0;32mreturn\u001b[0m \u001b[0;36m1\u001b[0m\u001b[0;34m\u001b[0m\u001b[0;34m\u001b[0m\u001b[0m\n",
      "\u001b[0;32m~/git_repo/Reviews/notebooks/knn.py\u001b[0m in \u001b[0;36mpredict_row\u001b[0;34m(self, v)\u001b[0m\n\u001b[1;32m     26\u001b[0m         \u001b[0;31m# Array of pairs(norm, index).\u001b[0m\u001b[0;34m\u001b[0m\u001b[0;34m\u001b[0m\u001b[0;34m\u001b[0m\u001b[0m\n\u001b[1;32m     27\u001b[0m         distances = [(np.linalg.norm((self.data_train)[i] - v, 1), i)\n\u001b[0;32m---> 28\u001b[0;31m                      for i in range(len(self.data_train))]\n\u001b[0m\u001b[1;32m     29\u001b[0m         \u001b[0mdistances\u001b[0m\u001b[0;34m.\u001b[0m\u001b[0msort\u001b[0m\u001b[0;34m(\u001b[0m\u001b[0;34m)\u001b[0m  \u001b[0;31m# Sort with respect to the euclidean distance.\u001b[0m\u001b[0;34m\u001b[0m\u001b[0;34m\u001b[0m\u001b[0m\n\u001b[1;32m     30\u001b[0m         \u001b[0mdistances\u001b[0m \u001b[0;34m=\u001b[0m \u001b[0;34m[\u001b[0m\u001b[0mb\u001b[0m \u001b[0;32mfor\u001b[0m \u001b[0ma\u001b[0m\u001b[0;34m,\u001b[0m \u001b[0mb\u001b[0m \u001b[0;32min\u001b[0m \u001b[0mdistances\u001b[0m\u001b[0;34m]\u001b[0m  \u001b[0;31m# Keep the indices.\u001b[0m\u001b[0;34m\u001b[0m\u001b[0;34m\u001b[0m\u001b[0m\n",
      "\u001b[0;32m~/git_repo/Reviews/notebooks/knn.py\u001b[0m in \u001b[0;36mdistance_to_row\u001b[0;34m(self, v)\u001b[0m\n\u001b[1;32m     18\u001b[0m         \u001b[0mself\u001b[0m\u001b[0;34m.\u001b[0m\u001b[0mdata_train\u001b[0m \u001b[0;34m=\u001b[0m \u001b[0mdata_train\u001b[0m\u001b[0;34m\u001b[0m\u001b[0;34m\u001b[0m\u001b[0m\n\u001b[1;32m     19\u001b[0m         \u001b[0mself\u001b[0m\u001b[0;34m.\u001b[0m\u001b[0mresult_train\u001b[0m \u001b[0;34m=\u001b[0m \u001b[0mresult_train\u001b[0m\u001b[0;34m\u001b[0m\u001b[0;34m\u001b[0m\u001b[0m\n\u001b[0;32m---> 20\u001b[0;31m \u001b[0;34m\u001b[0m\u001b[0m\n\u001b[0m\u001b[1;32m     21\u001b[0m     \u001b[0;32mdef\u001b[0m \u001b[0mdistance_to_row\u001b[0m\u001b[0;34m(\u001b[0m\u001b[0mself\u001b[0m\u001b[0;34m,\u001b[0m \u001b[0mv\u001b[0m\u001b[0;34m)\u001b[0m\u001b[0;34m:\u001b[0m\u001b[0;34m\u001b[0m\u001b[0;34m\u001b[0m\u001b[0m\n\u001b[1;32m     22\u001b[0m         '''Calculates the distance from v to each row of\n",
      "\u001b[0;32m~/git_repo/Reviews/notebooks/knn.py\u001b[0m in \u001b[0;36m<listcomp>\u001b[0;34m(.0)\u001b[0m\n\u001b[1;32m     18\u001b[0m         \u001b[0mself\u001b[0m\u001b[0;34m.\u001b[0m\u001b[0mdata_train\u001b[0m \u001b[0;34m=\u001b[0m \u001b[0mdata_train\u001b[0m\u001b[0;34m\u001b[0m\u001b[0;34m\u001b[0m\u001b[0m\n\u001b[1;32m     19\u001b[0m         \u001b[0mself\u001b[0m\u001b[0;34m.\u001b[0m\u001b[0mresult_train\u001b[0m \u001b[0;34m=\u001b[0m \u001b[0mresult_train\u001b[0m\u001b[0;34m\u001b[0m\u001b[0;34m\u001b[0m\u001b[0m\n\u001b[0;32m---> 20\u001b[0;31m \u001b[0;34m\u001b[0m\u001b[0m\n\u001b[0m\u001b[1;32m     21\u001b[0m     \u001b[0;32mdef\u001b[0m \u001b[0mdistance_to_row\u001b[0m\u001b[0;34m(\u001b[0m\u001b[0mself\u001b[0m\u001b[0;34m,\u001b[0m \u001b[0mv\u001b[0m\u001b[0;34m)\u001b[0m\u001b[0;34m:\u001b[0m\u001b[0;34m\u001b[0m\u001b[0;34m\u001b[0m\u001b[0m\n\u001b[1;32m     22\u001b[0m         '''Calculates the distance from v to each row of\n",
      "\u001b[0;32m~/.local/lib/python3.7/site-packages/numpy/linalg/linalg.py\u001b[0m in \u001b[0;36mnorm\u001b[0;34m(x, ord, axis, keepdims)\u001b[0m\n\u001b[1;32m   2475\u001b[0m         \u001b[0;32melif\u001b[0m \u001b[0mord\u001b[0m \u001b[0;34m==\u001b[0m \u001b[0;36m1\u001b[0m\u001b[0;34m:\u001b[0m\u001b[0;34m\u001b[0m\u001b[0;34m\u001b[0m\u001b[0m\n\u001b[1;32m   2476\u001b[0m             \u001b[0;31m# special case for speedup\u001b[0m\u001b[0;34m\u001b[0m\u001b[0;34m\u001b[0m\u001b[0;34m\u001b[0m\u001b[0m\n\u001b[0;32m-> 2477\u001b[0;31m             \u001b[0;32mreturn\u001b[0m \u001b[0madd\u001b[0m\u001b[0;34m.\u001b[0m\u001b[0mreduce\u001b[0m\u001b[0;34m(\u001b[0m\u001b[0mabs\u001b[0m\u001b[0;34m(\u001b[0m\u001b[0mx\u001b[0m\u001b[0;34m)\u001b[0m\u001b[0;34m,\u001b[0m \u001b[0maxis\u001b[0m\u001b[0;34m=\u001b[0m\u001b[0maxis\u001b[0m\u001b[0;34m,\u001b[0m \u001b[0mkeepdims\u001b[0m\u001b[0;34m=\u001b[0m\u001b[0mkeepdims\u001b[0m\u001b[0;34m)\u001b[0m\u001b[0;34m\u001b[0m\u001b[0;34m\u001b[0m\u001b[0m\n\u001b[0m\u001b[1;32m   2478\u001b[0m         \u001b[0;32melif\u001b[0m \u001b[0mord\u001b[0m \u001b[0;32mis\u001b[0m \u001b[0;32mNone\u001b[0m \u001b[0;32mor\u001b[0m \u001b[0mord\u001b[0m \u001b[0;34m==\u001b[0m \u001b[0;36m2\u001b[0m\u001b[0;34m:\u001b[0m\u001b[0;34m\u001b[0m\u001b[0;34m\u001b[0m\u001b[0m\n\u001b[1;32m   2479\u001b[0m             \u001b[0;31m# special case for speedup\u001b[0m\u001b[0;34m\u001b[0m\u001b[0;34m\u001b[0m\u001b[0;34m\u001b[0m\u001b[0m\n",
      "\u001b[0;31mKeyboardInterrupt\u001b[0m: "
     ]
    }
   ],
   "source": [
    "#import numpy as np\n",
    "\n",
    "best = 0\n",
    "mejores = []\n",
    "\n",
    "for alpha in range(20,400,5):\n",
    "\n",
    "    component = pca.PCA(alpha)\n",
    "    x_train = X_train\n",
    "    x_test = X_test\n",
    "    component.fit(x_train)\n",
    "\n",
    "    x_train = component.transform(x_train)\n",
    "    x_test = component.transform(x_test)\n",
    "\n",
    "    for n in range(20,200,5):\n",
    "\n",
    "        nearest = knn.KNNClassifier(n)\n",
    "        nearest.fit(x_train, y_train)\n",
    "\n",
    "        actual = nearest.score(x_test, y_test)\n",
    "        if actual == best:\n",
    "            mejores.append((alpha, n))\n",
    "        elif actual > best:\n",
    "            best = actual\n",
    "            mejores = [(alpha,n)]\n",
    "        print('Accuracy for alpha={:d} and n={:d}: {:.4f}'\n",
    "             .format(alpha, n, actual))\n",
    "        # print(mejores)"
   ]
  },
  {
   "cell_type": "code",
   "execution_count": 6,
   "metadata": {},
   "outputs": [
    {
     "name": "stdout",
     "output_type": "stream",
     "text": "PREDIQUE\n0.682\n"
    }
   ],
   "source": [
    "import pca\n",
    "import knn\n",
    "import numpy as np\n",
    "# X_train = X_train.sklearn.preprocessing.normalize()\n",
    "\n",
    "for row in X_train:\n",
    "    row = row / np.linalg.norm(row)\n",
    "\n",
    "for row in X_test:\n",
    "    row = row / np.linalg.norm(row)\n",
    "\n",
    "pcA = pca.PCA(80)\n",
    "pcA.fit(X_train)\n",
    "\n",
    "X_reduce = pcA.transform(X_train)\n",
    "\n",
    "X_rtest = pcA.transform(X_test)\n",
    "\n",
    "\n",
    "\n",
    "clf = knn.KNNClassifier(120)\n",
    "clf.fit(X_reduce, y_train)\n",
    "\n",
    "print(clf.score(X_rtest,y_test))"
   ]
  },
  {
   "cell_type": "code",
   "execution_count": 10,
   "metadata": {},
   "outputs": [
    {
     "name": "stdout",
     "output_type": "stream",
     "text": "0.676\n[(20, 70)]\n"
    }
   ],
   "source": [
    "print(best)\n",
    "print(mejores)"
   ]
  }
 ],
 "metadata": {
  "kernelspec": {
   "display_name": "Python 3",
   "language": "python",
   "name": "python3"
  },
  "language_info": {
   "codemirror_mode": {
    "name": "ipython",
    "version": 3
   },
   "file_extension": ".py",
   "mimetype": "text/x-python",
   "name": "python",
   "nbconvert_exporter": "python",
   "pygments_lexer": "ipython3",
   "version": "3.7.5-final"
  }
 },
 "nbformat": 4,
 "nbformat_minor": 2
}